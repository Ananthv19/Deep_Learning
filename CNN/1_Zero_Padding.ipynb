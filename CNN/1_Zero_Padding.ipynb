{
  "nbformat": 4,
  "nbformat_minor": 0,
  "metadata": {
    "colab": {
      "name": "Zero_Padding.ipynb",
      "provenance": [],
      "collapsed_sections": []
    },
    "kernelspec": {
      "name": "python3",
      "display_name": "Python 3"
    },
    "language_info": {
      "name": "python"
    }
  },
  "cells": [
    {
      "cell_type": "markdown",
      "metadata": {
        "id": "TwxUeIbJdyn7"
      },
      "source": [
        "# <b>Zero Padding</b>"
      ]
    },
    {
      "cell_type": "code",
      "metadata": {
        "id": "7AYhKdBOTIns"
      },
      "source": [
        "import keras\n",
        "from keras.models import Sequential\n",
        "from keras.layers import Activation\n",
        "from keras.layers.core import Dense, Flatten\n",
        "from keras.layers.convolutional import *"
      ],
      "execution_count": 2,
      "outputs": []
    },
    {
      "cell_type": "markdown",
      "metadata": {
        "id": "yPGObjhXmVAI"
      },
      "source": [
        "1. It has a Dense input layer.Followed by 3 convolutional layer, and Dense output layer.\n",
        "\n",
        "2. It specifies that the input size data coming into the CNN is 20 by 20.\n",
        "\n",
        "3. We see that our first Convolutional layer has a filter size of 3 by 3, which is specified in keras with kernel_size parameter.\n",
        "\n",
        "4. Second Convolutional layer specifies size 5 by 5.\n",
        "\n",
        "5. In the third 7 by 7.\n",
        "\n",
        "6. <b>valid</b> padding means no padding.(default in keras)\n",
        "\n",
        "7. <b>same</b> means zero padding.\n"
      ]
    },
    {
      "cell_type": "code",
      "metadata": {
        "id": "wBgAfii4eJnD"
      },
      "source": [
        "\n",
        "model_valid = Sequential([\n",
        "                          Dense(16, activation='relu', input_shape=(20, 20, 3)),\n",
        "                          Conv2D(32, kernel_size = (3, 3), activation = 'relu', padding='valid'),\n",
        "                          Conv2D(64, kernel_size=(5, 5), activation='relu', padding='valid'),\n",
        "                          Conv2D(128, kernel_size=(7,7), activation='relu', padding='valid'),\n",
        "                          Flatten(),\n",
        "                          Dense(2, activation = 'softmax')\n",
        "])"
      ],
      "execution_count": 3,
      "outputs": []
    },
    {
      "cell_type": "markdown",
      "metadata": {
        "id": "dobx0rUNowCT"
      },
      "source": [
        "Input is 20 by 20, which results in 8 by 8."
      ]
    },
    {
      "cell_type": "code",
      "metadata": {
        "colab": {
          "base_uri": "https://localhost:8080/"
        },
        "id": "my44Zgr4sofb",
        "outputId": "b41e2053-af8a-4916-a043-da58341e45b3"
      },
      "source": [
        "model_valid.summary()"
      ],
      "execution_count": 4,
      "outputs": [
        {
          "output_type": "stream",
          "name": "stdout",
          "text": [
            "Model: \"sequential\"\n",
            "_________________________________________________________________\n",
            "Layer (type)                 Output Shape              Param #   \n",
            "=================================================================\n",
            "dense (Dense)                (None, 20, 20, 16)        64        \n",
            "_________________________________________________________________\n",
            "conv2d (Conv2D)              (None, 18, 18, 32)        4640      \n",
            "_________________________________________________________________\n",
            "conv2d_1 (Conv2D)            (None, 14, 14, 64)        51264     \n",
            "_________________________________________________________________\n",
            "conv2d_2 (Conv2D)            (None, 8, 8, 128)         401536    \n",
            "_________________________________________________________________\n",
            "flatten (Flatten)            (None, 8192)              0         \n",
            "_________________________________________________________________\n",
            "dense_1 (Dense)              (None, 2)                 16386     \n",
            "=================================================================\n",
            "Total params: 473,890\n",
            "Trainable params: 473,890\n",
            "Non-trainable params: 0\n",
            "_________________________________________________________________\n"
          ]
        }
      ]
    },
    {
      "cell_type": "code",
      "metadata": {
        "id": "ukgc8Dyvwdv0"
      },
      "source": [
        ""
      ],
      "execution_count": 4,
      "outputs": []
    },
    {
      "cell_type": "code",
      "metadata": {
        "id": "2JhWUKoLo9jF"
      },
      "source": [
        "model_valid = Sequential([\n",
        "                          Dense(16, activation='relu', input_shape=(20, 20, 3)),\n",
        "                          Conv2D(32, kernel_size = (3, 3), activation = 'relu', padding='same'),\n",
        "                          Conv2D(64, kernel_size=(5, 5), activation='relu', padding='same'),\n",
        "                          Conv2D(128, kernel_size=(7,7), activation='relu', padding='same'),\n",
        "                          Flatten(),\n",
        "                          Dense(2, activation = 'softmax')\n",
        "])"
      ],
      "execution_count": 6,
      "outputs": []
    },
    {
      "cell_type": "markdown",
      "metadata": {
        "id": "mIy7-lvypOMX"
      },
      "source": [
        "Here, the output size is same as input size. (20 by 20)"
      ]
    },
    {
      "cell_type": "code",
      "metadata": {
        "colab": {
          "base_uri": "https://localhost:8080/"
        },
        "id": "TIUgp1jKpAgl",
        "outputId": "18a067b5-6000-4447-9406-c6a608ddd949"
      },
      "source": [
        "model_valid.summary()"
      ],
      "execution_count": 7,
      "outputs": [
        {
          "output_type": "stream",
          "name": "stdout",
          "text": [
            "Model: \"sequential_2\"\n",
            "_________________________________________________________________\n",
            "Layer (type)                 Output Shape              Param #   \n",
            "=================================================================\n",
            "dense_4 (Dense)              (None, 20, 20, 16)        64        \n",
            "_________________________________________________________________\n",
            "conv2d_6 (Conv2D)            (None, 20, 20, 32)        4640      \n",
            "_________________________________________________________________\n",
            "conv2d_7 (Conv2D)            (None, 20, 20, 64)        51264     \n",
            "_________________________________________________________________\n",
            "conv2d_8 (Conv2D)            (None, 20, 20, 128)       401536    \n",
            "_________________________________________________________________\n",
            "flatten_2 (Flatten)          (None, 51200)             0         \n",
            "_________________________________________________________________\n",
            "dense_5 (Dense)              (None, 2)                 102402    \n",
            "=================================================================\n",
            "Total params: 559,906\n",
            "Trainable params: 559,906\n",
            "Non-trainable params: 0\n",
            "_________________________________________________________________\n"
          ]
        }
      ]
    },
    {
      "cell_type": "code",
      "metadata": {
        "id": "p_qnMp9-pJrs"
      },
      "source": [
        ""
      ],
      "execution_count": null,
      "outputs": []
    }
  ]
}