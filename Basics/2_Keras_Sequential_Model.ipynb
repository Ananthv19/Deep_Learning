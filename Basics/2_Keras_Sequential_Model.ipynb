{
  "nbformat": 4,
  "nbformat_minor": 0,
  "metadata": {
    "colab": {
      "name": "2. Keras_Sequential_Model.ipynb",
      "provenance": [],
      "collapsed_sections": []
    },
    "kernelspec": {
      "name": "python3",
      "display_name": "Python 3"
    },
    "language_info": {
      "name": "python"
    }
  },
  "cells": [
    {
      "cell_type": "markdown",
      "metadata": {
        "id": "yIVceQuWF4Oc"
      },
      "source": [
        "# <b> Keras Sequential Model</b>\n",
        "\n",
        "The Sequential model is a linear stack of layers."
      ]
    },
    {
      "cell_type": "markdown",
      "metadata": {
        "id": "142U8dcrF7OO"
      },
      "source": [
        ""
      ]
    },
    {
      "cell_type": "code",
      "metadata": {
        "id": "ZSWL7j1qF2-y"
      },
      "source": [
        "from keras.models import Sequential\n",
        "from keras.layers import Dense, Activation"
      ],
      "execution_count": 1,
      "outputs": []
    },
    {
      "cell_type": "markdown",
      "metadata": {
        "id": "M4Th0kTCF_VV"
      },
      "source": [
        "\n",
        "<b>relu(ReLU)</b> -- Rectified Linear Unit\n",
        "\n",
        "model is a variable\n",
        "\n",
        "<b>Sequential</b> is constructor and passing 2 arrays.\n",
        "\n",
        "and array has two dense objects.\n",
        "\n",
        "The objects called <b>Dense</b> are actually the layers.\n",
        "\n",
        "Dense connects each input to each output layers.\n"
      ]
    },
    {
      "cell_type": "code",
      "metadata": {
        "id": "jcanAX8WF9rN"
      },
      "source": [
        ""
      ],
      "execution_count": null,
      "outputs": []
    },
    {
      "cell_type": "markdown",
      "metadata": {
        "id": "wYLrjzTFGB-4"
      },
      "source": [
        "Dense(32, input_shape=(10, ), activation = 'relu')\n",
        "\n",
        "1<sup>st</sup> Parameter:\n",
        "\n",
        "<b>32</b> -- is the number of nodes or neurons within our layer.\n",
        "\n",
        "2<sup>nd</sup> Parameter:\n",
        "\n",
        "<b>input_shape</b> -- is going to be the shape of our data that we are passing into our model.\n",
        "\n",
        "3<sup>rd</sup> Parameter:\n",
        "\n",
        "<b>activation function</b> -- is typically a non-linear function that follows a dense layer.\n"
      ]
    },
    {
      "cell_type": "code",
      "metadata": {
        "id": "1mFCKnDjGCfn"
      },
      "source": [
        "model = Sequential([\n",
        "                    Dense(32, input_shape=(10, ), activation = 'relu'),\n",
        "                    Dense(2, activation = 'softmax'),\n",
        "])"
      ],
      "execution_count": 2,
      "outputs": []
    },
    {
      "cell_type": "code",
      "metadata": {
        "id": "VW0C0HGTGFQ1"
      },
      "source": [
        ""
      ],
      "execution_count": null,
      "outputs": []
    }
  ]
}