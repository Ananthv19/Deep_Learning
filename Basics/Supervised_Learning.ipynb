{
  "nbformat": 4,
  "nbformat_minor": 0,
  "metadata": {
    "colab": {
      "name": "Supervised_Learning.ipynb",
      "provenance": [],
      "collapsed_sections": []
    },
    "kernelspec": {
      "name": "python3",
      "display_name": "Python 3"
    },
    "language_info": {
      "name": "python"
    }
  },
  "cells": [
    {
      "cell_type": "markdown",
      "metadata": {
        "id": "I056xLSJHLO4"
      },
      "source": [
        "# <b>Supervised Learning</b>"
      ]
    },
    {
      "cell_type": "code",
      "metadata": {
        "id": "Ta79yAsAHGFf"
      },
      "source": [
        "import keras\n",
        "from keras import backend as k\n",
        "from keras.models import Sequential\n",
        "from keras.layers import Activation\n",
        "from keras.layers.core import Dense\n",
        "from tensorflow.keras.optimizers import Adam"
      ],
      "execution_count": 2,
      "outputs": []
    },
    {
      "cell_type": "code",
      "metadata": {
        "id": "r8r_h4zYHoFz"
      },
      "source": [
        "model = Sequential([\n",
        "                    Dense(16, input_shape=(2,), activation='relu'),\n",
        "                    Dense(32, activation='relu'),\n",
        "                    Dense(2, activation='sigmoid')\n",
        "])"
      ],
      "execution_count": 3,
      "outputs": []
    },
    {
      "cell_type": "code",
      "metadata": {
        "id": "6Md_BYymIJj3"
      },
      "source": [
        "model.compile(Adam(learning_rate=.0001), loss='sparse_categorical_crossentropy', metrics=['accuracy'])"
      ],
      "execution_count": 4,
      "outputs": []
    },
    {
      "cell_type": "code",
      "metadata": {
        "id": "j-P981-6IZv5"
      },
      "source": [
        "# weight, height\n",
        "train_samples = [[150, 67], [130, 60], [200, 65], [125, 52], [230, 72], [181, 70]]"
      ],
      "execution_count": 5,
      "outputs": []
    },
    {
      "cell_type": "code",
      "metadata": {
        "id": "y54HPxnIInq6"
      },
      "source": [
        "# 0: male\n",
        "# 1: female\n",
        "train_labels = [1, 1, 0, 1, 0, 0]"
      ],
      "execution_count": 6,
      "outputs": []
    },
    {
      "cell_type": "code",
      "metadata": {
        "colab": {
          "base_uri": "https://localhost:8080/"
        },
        "id": "guLarR80Iz1Z",
        "outputId": "4d1d474f-8a45-4273-f792-bd93c82c175d"
      },
      "source": [
        "model.fit(x=train_samples, y=train_labels, batch_size=3, epochs=10, shuffle=True, verbose=2)"
      ],
      "execution_count": 7,
      "outputs": [
        {
          "output_type": "stream",
          "name": "stdout",
          "text": [
            "Epoch 1/10\n",
            "2/2 - 1s - loss: 49.9133 - accuracy: 0.5000\n",
            "Epoch 2/10\n",
            "2/2 - 0s - loss: 49.6264 - accuracy: 0.5000\n",
            "Epoch 3/10\n",
            "2/2 - 0s - loss: 49.2750 - accuracy: 0.5000\n",
            "Epoch 4/10\n",
            "2/2 - 0s - loss: 48.8768 - accuracy: 0.5000\n",
            "Epoch 5/10\n",
            "2/2 - 0s - loss: 48.5962 - accuracy: 0.5000\n",
            "Epoch 6/10\n",
            "2/2 - 0s - loss: 48.2670 - accuracy: 0.5000\n",
            "Epoch 7/10\n",
            "2/2 - 0s - loss: 47.9333 - accuracy: 0.5000\n",
            "Epoch 8/10\n",
            "2/2 - 0s - loss: 47.5990 - accuracy: 0.5000\n",
            "Epoch 9/10\n",
            "2/2 - 0s - loss: 47.2676 - accuracy: 0.5000\n",
            "Epoch 10/10\n",
            "2/2 - 0s - loss: 46.8900 - accuracy: 0.5000\n"
          ]
        },
        {
          "output_type": "execute_result",
          "data": {
            "text/plain": [
              "<keras.callbacks.History at 0x7f877bcd1810>"
            ]
          },
          "metadata": {},
          "execution_count": 7
        }
      ]
    },
    {
      "cell_type": "code",
      "metadata": {
        "id": "0hVkmeQ_JDqJ"
      },
      "source": [
        ""
      ],
      "execution_count": null,
      "outputs": []
    }
  ]
}