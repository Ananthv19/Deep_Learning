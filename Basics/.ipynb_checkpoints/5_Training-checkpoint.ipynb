{
 "cells": [
  {
   "cell_type": "markdown",
   "metadata": {
    "id": "ZS4c_ouWHaE1"
   },
   "source": [
    "# <b>Training</b>\n",
    "\n",
    "Solving an Optimization Problem\n",
    "\n",
    "<ul>\n",
    "<li>Optimizing weights\n",
    "<ul><li> with Stochastic Gradient descent (SGD)</li></ul>\n",
    "</li>\n",
    "<li>Objective: Minimize the loss function."
   ]
  },
  {
   "cell_type": "code",
   "execution_count": 1,
   "metadata": {
    "id": "pKR4KOLDHYro"
   },
   "outputs": [],
   "source": [
    "import numpy as np\n",
    "from random import randint\n",
    "from sklearn.preprocessing import MinMaxScaler"
   ]
  },
  {
   "cell_type": "code",
   "execution_count": 2,
   "metadata": {
    "id": "6GTNlZ3IHkKb"
   },
   "outputs": [],
   "source": [
    "train_labels = []\n",
    "train_samples = []"
   ]
  },
  {
   "cell_type": "markdown",
   "metadata": {
    "id": "CmKp5mK_Htxs"
   },
   "source": [
    "Example data: \n",
    "\n",
    "<ul> \n",
    "<li>An experimental drug was tested on individuas from ages 13 to 65.</li>\n",
    "<li>The trial had 2100 participants. Half were usder 65 years old, half were over 65 years old.</li>\n",
    "<li>95% of patientes 65 or older experienced side effects.</li>\n",
    "<li>95% of patients under 65 experienced no side effects.</li>"
   ]
  },
  {
   "cell_type": "code",
   "execution_count": 3,
   "metadata": {
    "id": "bUjmo1vFHteg"
   },
   "outputs": [],
   "source": [
    "for i in range(1000):\n",
    "  random_younger = randint(13, 64)\n",
    "  train_samples.append(random_younger)\n",
    "  train_labels.append(0)\n",
    "\n",
    "  random_older = randint(65, 100)\n",
    "  train_samples.append(random_older)\n",
    "  train_labels.append(1)\n",
    "\n",
    "for i in range(50):\n",
    "  random_younger = randint(13, 64)\n",
    "  train_samples.append(random_younger)\n",
    "  train_labels.append(1)\n",
    "\n",
    "  random_older = randint(65, 100)\n",
    "  train_samples.append(random_older)\n",
    "  train_labels.append(0)"
   ]
  },
  {
   "cell_type": "code",
   "execution_count": null,
   "metadata": {
    "id": "NQeBbuA-Hr7w"
   },
   "outputs": [],
   "source": [
    "# print raw data\n",
    "for i in train_samples:\n",
    "  print(i)"
   ]
  },
  {
   "cell_type": "code",
   "execution_count": 4,
   "metadata": {
    "id": "RjCO_1WjHzZ4"
   },
   "outputs": [],
   "source": [
    "train_labels = np.array(train_labels)\n",
    "train_samples = np.array(train_samples)"
   ]
  },
  {
   "cell_type": "code",
   "execution_count": 5,
   "metadata": {
    "id": "4TiAkR8mH1Ts"
   },
   "outputs": [],
   "source": [
    "scaler = MinMaxScaler(feature_range=(0,1))\n",
    "scaled_train_samples = scaler.fit_transform((train_samples).reshape(-1, 1))"
   ]
  },
  {
   "cell_type": "code",
   "execution_count": null,
   "metadata": {
    "id": "K7KXxpumH3ET"
   },
   "outputs": [],
   "source": []
  }
 ],
 "metadata": {
  "colab": {
   "collapsed_sections": [],
   "name": "5_Training.ipynb",
   "provenance": []
  },
  "kernelspec": {
   "display_name": "Python 3",
   "language": "python",
   "name": "python3"
  },
  "language_info": {
   "codemirror_mode": {
    "name": "ipython",
    "version": 3
   },
   "file_extension": ".py",
   "mimetype": "text/x-python",
   "name": "python",
   "nbconvert_exporter": "python",
   "pygments_lexer": "ipython3",
   "version": "3.8.8"
  }
 },
 "nbformat": 4,
 "nbformat_minor": 1
}
