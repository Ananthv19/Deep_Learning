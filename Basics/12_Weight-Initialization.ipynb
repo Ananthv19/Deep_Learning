{
 "cells": [
  {
   "cell_type": "markdown",
   "id": "2fba8400",
   "metadata": {},
   "source": [
    "# Weight Initialization"
   ]
  },
  {
   "cell_type": "code",
   "execution_count": 1,
   "id": "bbdcc8ec",
   "metadata": {},
   "outputs": [],
   "source": [
    "from keras.models import Sequential\n",
    "from keras.layers import Dense, Activation"
   ]
  },
  {
   "cell_type": "code",
   "execution_count": 3,
   "id": "4ce9d713",
   "metadata": {},
   "outputs": [],
   "source": [
    "# Using 2 hidden layers\n",
    "model = Sequential([\n",
    "    Dense(16, input_shape=(1, 5), activation='relu'),\n",
    "    # kernel_initializer -- used to specify what type of weight initialization we want to use for a given layer\n",
    "    # glorot_uniform -- Xavier initialization using a uniform distribution. Keras uses as a default\n",
    "    # glorot_normal -- for normal distribution\n",
    "    Dense(32, activation='relu', kernel_initializer='glorot_uniform'),  \n",
    "    Dense(2, activation='softmax')\n",
    "])"
   ]
  },
  {
   "cell_type": "code",
   "execution_count": null,
   "id": "6dbb22d3",
   "metadata": {},
   "outputs": [],
   "source": []
  }
 ],
 "metadata": {
  "kernelspec": {
   "display_name": "Python 3 (ipykernel)",
   "language": "python",
   "name": "python3"
  },
  "language_info": {
   "codemirror_mode": {
    "name": "ipython",
    "version": 3
   },
   "file_extension": ".py",
   "mimetype": "text/x-python",
   "name": "python",
   "nbconvert_exporter": "python",
   "pygments_lexer": "ipython3",
   "version": "3.9.7"
  }
 },
 "nbformat": 4,
 "nbformat_minor": 5
}
