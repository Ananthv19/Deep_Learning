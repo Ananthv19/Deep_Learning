{
  "nbformat": 4,
  "nbformat_minor": 0,
  "metadata": {
    "colab": {
      "name": "5_Training.ipynb",
      "provenance": [],
      "collapsed_sections": []
    },
    "kernelspec": {
      "name": "python3",
      "display_name": "Python 3"
    },
    "language_info": {
      "name": "python"
    }
  },
  "cells": [
    {
      "cell_type": "markdown",
      "metadata": {
        "id": "ZS4c_ouWHaE1"
      },
      "source": [
        "# <b>Training</b>\n",
        "\n",
        "Solving an Optimization Problem\n",
        "\n",
        "<ul>\n",
        "<li>Optimizing weights\n",
        "<ul><li> with Stochastic Gradient descent (SGD)</li></ul>\n",
        "</li>\n",
        "<li>Objective: Minimize the loss function."
      ]
    },
    {
      "cell_type": "code",
      "metadata": {
        "id": "pKR4KOLDHYro"
      },
      "source": [
        "import numpy as np\n",
        "from random import randint\n",
        "from sklearn.preprocessing import MinMaxScaler"
      ],
      "execution_count": 1,
      "outputs": []
    },
    {
      "cell_type": "code",
      "metadata": {
        "id": "6GTNlZ3IHkKb"
      },
      "source": [
        "train_labels = []\n",
        "train_samples = []"
      ],
      "execution_count": 2,
      "outputs": []
    },
    {
      "cell_type": "markdown",
      "metadata": {
        "id": "CmKp5mK_Htxs"
      },
      "source": [
        "Example data: \n",
        "\n",
        "<ul> \n",
        "<li>An experimental drug was tested on individuas from ages 13 to 65.</li>\n",
        "<li>The trial had 2100 participants. Half were usder 65 years old, half were over 65 years old.</li>\n",
        "<li>95% of patientes 65 or older experienced side effects.</li>\n",
        "<li>95% of patients under 65 experienced no side effects.</li>"
      ]
    },
    {
      "cell_type": "code",
      "metadata": {
        "id": "bUjmo1vFHteg"
      },
      "source": [
        "for i in range(1000):\n",
        "  random_younger = randint(13, 64)\n",
        "  train_samples.append(random_younger)\n",
        "  train_labels.append(0)\n",
        "\n",
        "  random_older = randint(65, 100)\n",
        "  train_samples.append(random_older)\n",
        "  train_labels.append(1)\n",
        "\n",
        "for i in range(50):\n",
        "  random_younger = randint(13, 64)\n",
        "  train_samples.append(random_younger)\n",
        "  train_labels.append(1)\n",
        "\n",
        "  random_older = randint(65, 100)\n",
        "  train_samples.append(random_older)\n",
        "  train_labels.append(0)"
      ],
      "execution_count": 3,
      "outputs": []
    },
    {
      "cell_type": "code",
      "metadata": {
        "id": "NQeBbuA-Hr7w"
      },
      "source": [
        "# print raw data\n",
        "for i in train_samples:\n",
        "  print(i)"
      ],
      "execution_count": null,
      "outputs": []
    },
    {
      "cell_type": "code",
      "metadata": {
        "id": "RjCO_1WjHzZ4"
      },
      "source": [
        "train_labels = np.array(train_labels)\n",
        "train_samples = np.array(train_samples)"
      ],
      "execution_count": 4,
      "outputs": []
    },
    {
      "cell_type": "code",
      "metadata": {
        "id": "4TiAkR8mH1Ts"
      },
      "source": [
        "scaler = MinMaxScaler(feature_range=(0,1))\n",
        "scaled_train_samples = scaler.fit_transform((train_samples).reshape(-1, 1))"
      ],
      "execution_count": 5,
      "outputs": []
    },
    {
      "cell_type": "code",
      "metadata": {
        "id": "K7KXxpumH3ET"
      },
      "source": [
        ""
      ],
      "execution_count": null,
      "outputs": []
    }
  ]
}