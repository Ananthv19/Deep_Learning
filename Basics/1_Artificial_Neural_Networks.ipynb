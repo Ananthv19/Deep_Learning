{
  "nbformat": 4,
  "nbformat_minor": 0,
  "metadata": {
    "colab": {
      "name": "Artificial_Neural_Networks.ipynb",
      "provenance": [],
      "collapsed_sections": []
    },
    "kernelspec": {
      "name": "python3",
      "display_name": "Python 3"
    },
    "language_info": {
      "name": "python"
    }
  },
  "cells": [
    {
      "cell_type": "markdown",
      "metadata": {
        "id": "hi3bnZcBFcL-"
      },
      "source": [
        "# <b>Artificial Neural Networks</b>\n",
        "\n",
        "ANNs are deep learning models that are based on the structure of the brain's neural networks.\n",
        "\n",
        "<ul>\n",
        "<li>ANNs are used interchangebly with the terms\n",
        "<ul>\n",
        "<li>neural net</li>\n",
        "<li>net</li>\n",
        "<li>model</li>\n",
        "</ul>\n",
        "</li>\n",
        "</ul>\n",
        "\n"
      ]
    },
    {
      "cell_type": "code",
      "metadata": {
        "id": "Ygo2clJcJqmb"
      },
      "source": [
        ""
      ],
      "execution_count": null,
      "outputs": []
    },
    {
      "cell_type": "markdown",
      "metadata": {
        "id": "ZadTnpPbFgRc"
      },
      "source": [
        "# <b>Artificial Neural Networks (ANNs)</b>\n",
        "\n",
        "ANNs are computing systems that are inspired by the brain's neural networks.\n",
        "<ul>\n",
        "<li>These networks are based on a collection units called <b>artificial neurons</b>, or <b>neurons</b>.</li>\n",
        "<li>Each connection between neurons can transmit a signal from one neuron to another.</li>\n",
        "<li>The receiving neuron processes the signal and signals downstream neurons connected to it.</li>\n",
        "<li> Neurons are organized in layers.\n",
        "<ul>\n",
        "<li>Input layer</li>\n",
        "<li>Hidden layers</li>\n",
        "<li>Output layers</li>\n",
        "</li>\n",
        "</ul>"
      ]
    },
    {
      "cell_type": "code",
      "metadata": {
        "id": "_yBB4nUeFg8_"
      },
      "source": [
        ""
      ],
      "execution_count": null,
      "outputs": []
    }
  ]
}