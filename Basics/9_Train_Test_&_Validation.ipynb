{
  "nbformat": 4,
  "nbformat_minor": 0,
  "metadata": {
    "colab": {
      "name": "9_Train_Test_&_Validation.ipynb",
      "provenance": [],
      "collapsed_sections": [
        "_woxHmUoLxzt"
      ]
    },
    "kernelspec": {
      "name": "python3",
      "display_name": "Python 3"
    },
    "language_info": {
      "name": "python"
    }
  },
  "cells": [
    {
      "cell_type": "markdown",
      "metadata": {
        "id": "_woxHmUoLxzt"
      },
      "source": [
        "# Training"
      ]
    },
    {
      "cell_type": "code",
      "metadata": {
        "id": "3p0vGKOhLy8Y"
      },
      "source": [
        "import numpy as np\n",
        "from random import randint\n",
        "from sklearn.preprocessing import MinMaxScaler\n",
        "\n",
        "train_labels = []\n",
        "train_samples = []\n",
        "\n",
        "for i in range(1000):\n",
        "  random_younger = randint(13, 64)\n",
        "  train_samples.append(random_younger)\n",
        "  train_labels.append(0)\n",
        "\n",
        "  random_older = randint(65, 100)\n",
        "  train_samples.append(random_older)\n",
        "  train_labels.append(1)\n",
        "\n",
        "for i in range(50):\n",
        "  random_younger = randint(13, 64)\n",
        "  train_samples.append(random_younger)\n",
        "  train_labels.append(1)\n",
        "\n",
        "  random_older = randint(65, 100)\n",
        "  train_samples.append(random_older)\n",
        "  train_labels.append(0)\n",
        "\n",
        "\n",
        "train_labels = np.array(train_labels)\n",
        "train_samples = np.array(train_samples)\n",
        "\n",
        "\n",
        "scaler = MinMaxScaler(feature_range=(0,1))\n",
        "scaled_train_samples = scaler.fit_transform((train_samples).reshape(-1, 1))"
      ],
      "execution_count": 1,
      "outputs": []
    },
    {
      "cell_type": "code",
      "metadata": {
        "id": "qUIqGe2SMJ2x"
      },
      "source": [
        "import keras\n",
        "from keras import backend as k\n",
        "from keras.models import Sequential\n",
        "from keras.layers import Activation\n",
        "from keras.layers.core import Dense\n",
        "from tensorflow.keras.optimizers import Adam\n",
        "from keras import regularizers\n",
        "\n",
        "model = Sequential([\n",
        "                    Dense(16, input_shape=(1,), activation='relu'),  \n",
        "                    Dense(32, activation='relu', kernel_regularizer=regularizers.l2(0.01)),\n",
        "                    Dense(2, activation='sigmoid')\n",
        "])"
      ],
      "execution_count": 5,
      "outputs": []
    },
    {
      "cell_type": "code",
      "metadata": {
        "id": "xZlFc1HnMU7k"
      },
      "source": [
        "model.compile(Adam(learning_rate=0.0001), loss='sparse_categorical_crossentropy', metrics=['accuracy'])"
      ],
      "execution_count": 7,
      "outputs": []
    },
    {
      "cell_type": "markdown",
      "metadata": {
        "id": "l3Ng5j9vLwmM"
      },
      "source": [
        "# <b>Train, Test, & Validation Sets </b>"
      ]
    },
    {
      "cell_type": "code",
      "metadata": {
        "id": "upPDHeeyLtuA"
      },
      "source": [
        ""
      ],
      "execution_count": null,
      "outputs": []
    },
    {
      "cell_type": "markdown",
      "metadata": {
        "id": "vKYyjS8fL-iK"
      },
      "source": [
        "# <b>Data Sets </b>"
      ]
    },
    {
      "cell_type": "code",
      "metadata": {
        "colab": {
          "base_uri": "https://localhost:8080/"
        },
        "id": "XS_sZAdvL-9b",
        "outputId": "e5f6050d-222b-4648-c89a-3adfa9491aae"
      },
      "source": [
        "scaled_train_samples"
      ],
      "execution_count": 2,
      "outputs": [
        {
          "output_type": "execute_result",
          "data": {
            "text/plain": [
              "array([[0.40229885],\n",
              "       [0.65517241],\n",
              "       [0.25287356],\n",
              "       ...,\n",
              "       [0.64367816],\n",
              "       [0.02298851],\n",
              "       [0.97701149]])"
            ]
          },
          "metadata": {},
          "execution_count": 2
        }
      ]
    },
    {
      "cell_type": "code",
      "metadata": {
        "colab": {
          "base_uri": "https://localhost:8080/"
        },
        "id": "7K12vWbtMBHB",
        "outputId": "a8af2e60-4799-491b-97a5-b255b8ce649b"
      },
      "source": [
        "train_labels"
      ],
      "execution_count": 3,
      "outputs": [
        {
          "output_type": "execute_result",
          "data": {
            "text/plain": [
              "array([0, 1, 0, ..., 0, 1, 0])"
            ]
          },
          "metadata": {},
          "execution_count": 3
        }
      ]
    },
    {
      "cell_type": "code",
      "metadata": {
        "colab": {
          "base_uri": "https://localhost:8080/"
        },
        "id": "5-zYzhn7MCkG",
        "outputId": "39426c1b-78b4-4368-a0bc-d7c423e0d9bc"
      },
      "source": [
        "model.fit(scaled_train_samples, train_labels, validation_split=0.20, batch_size=10,\n",
        "          epochs=20, shuffle=True, verbose=2)"
      ],
      "execution_count": 8,
      "outputs": [
        {
          "output_type": "stream",
          "name": "stdout",
          "text": [
            "Epoch 1/20\n",
            "168/168 - 1s - loss: 0.8406 - accuracy: 0.5440 - val_loss: 0.8542 - val_accuracy: 0.5071\n",
            "Epoch 2/20\n",
            "168/168 - 0s - loss: 0.7965 - accuracy: 0.6190 - val_loss: 0.8253 - val_accuracy: 0.5786\n",
            "Epoch 3/20\n",
            "168/168 - 0s - loss: 0.7523 - accuracy: 0.6756 - val_loss: 0.7960 - val_accuracy: 0.5952\n",
            "Epoch 4/20\n",
            "168/168 - 0s - loss: 0.7095 - accuracy: 0.7214 - val_loss: 0.7716 - val_accuracy: 0.6238\n",
            "Epoch 5/20\n",
            "168/168 - 0s - loss: 0.6697 - accuracy: 0.7589 - val_loss: 0.7482 - val_accuracy: 0.6476\n",
            "Epoch 6/20\n",
            "168/168 - 0s - loss: 0.6293 - accuracy: 0.7964 - val_loss: 0.7272 - val_accuracy: 0.6595\n",
            "Epoch 7/20\n",
            "168/168 - 0s - loss: 0.5909 - accuracy: 0.8238 - val_loss: 0.7088 - val_accuracy: 0.6905\n",
            "Epoch 8/20\n",
            "168/168 - 0s - loss: 0.5534 - accuracy: 0.8452 - val_loss: 0.6927 - val_accuracy: 0.6976\n",
            "Epoch 9/20\n",
            "168/168 - 0s - loss: 0.5171 - accuracy: 0.8667 - val_loss: 0.6788 - val_accuracy: 0.7048\n",
            "Epoch 10/20\n",
            "168/168 - 0s - loss: 0.4820 - accuracy: 0.8857 - val_loss: 0.6680 - val_accuracy: 0.6976\n",
            "Epoch 11/20\n",
            "168/168 - 0s - loss: 0.4487 - accuracy: 0.9006 - val_loss: 0.6608 - val_accuracy: 0.7048\n",
            "Epoch 12/20\n",
            "168/168 - 0s - loss: 0.4181 - accuracy: 0.9131 - val_loss: 0.6563 - val_accuracy: 0.7119\n",
            "Epoch 13/20\n",
            "168/168 - 0s - loss: 0.3898 - accuracy: 0.9238 - val_loss: 0.6540 - val_accuracy: 0.7214\n",
            "Epoch 14/20\n",
            "168/168 - 0s - loss: 0.3644 - accuracy: 0.9327 - val_loss: 0.6557 - val_accuracy: 0.7214\n",
            "Epoch 15/20\n",
            "168/168 - 0s - loss: 0.3418 - accuracy: 0.9405 - val_loss: 0.6609 - val_accuracy: 0.7357\n",
            "Epoch 16/20\n",
            "168/168 - 0s - loss: 0.3218 - accuracy: 0.9458 - val_loss: 0.6662 - val_accuracy: 0.7357\n",
            "Epoch 17/20\n",
            "168/168 - 0s - loss: 0.3041 - accuracy: 0.9488 - val_loss: 0.6733 - val_accuracy: 0.7405\n",
            "Epoch 18/20\n",
            "168/168 - 0s - loss: 0.2885 - accuracy: 0.9565 - val_loss: 0.6821 - val_accuracy: 0.7405\n",
            "Epoch 19/20\n",
            "168/168 - 0s - loss: 0.2750 - accuracy: 0.9625 - val_loss: 0.6931 - val_accuracy: 0.7405\n",
            "Epoch 20/20\n",
            "168/168 - 0s - loss: 0.2629 - accuracy: 0.9625 - val_loss: 0.7038 - val_accuracy: 0.7524\n"
          ]
        },
        {
          "output_type": "execute_result",
          "data": {
            "text/plain": [
              "<keras.callbacks.History at 0x7f3180736610>"
            ]
          },
          "metadata": {},
          "execution_count": 8
        }
      ]
    },
    {
      "cell_type": "markdown",
      "metadata": {
        "id": "xaEphkLEMamU"
      },
      "source": [
        "This is not the actual validation set. But this is the actual format that keras would expect.\n",
        "keras expects the tuples. (actusl_data, label)."
      ]
    },
    {
      "cell_type": "code",
      "metadata": {
        "id": "YvSJulyfMEL6"
      },
      "source": [
        "valid_set = [(sample, label), (sample, label), ... , (sample, label)]"
      ],
      "execution_count": null,
      "outputs": []
    },
    {
      "cell_type": "code",
      "metadata": {
        "id": "LZPksSDNMh5m"
      },
      "source": [
        "model.fit(scaled_train_samples, train_labels, validation_data = valid_set, batch_size=10,\n",
        "          epochs=20, shuffle=True, verbose=2)"
      ],
      "execution_count": null,
      "outputs": []
    },
    {
      "cell_type": "code",
      "metadata": {
        "id": "TXaR9CSrMklb"
      },
      "source": [
        ""
      ],
      "execution_count": null,
      "outputs": []
    },
    {
      "cell_type": "code",
      "metadata": {
        "id": "AAkMsMVPMkh0"
      },
      "source": [
        ""
      ],
      "execution_count": null,
      "outputs": []
    }
  ]
}