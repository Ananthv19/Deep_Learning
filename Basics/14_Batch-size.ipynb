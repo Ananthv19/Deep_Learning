{
 "cells": [
  {
   "cell_type": "markdown",
   "metadata": {
    "id": "hyAIg7rCKrXB"
   },
   "source": [
    "# Training"
   ]
  },
  {
   "cell_type": "code",
   "execution_count": 1,
   "metadata": {
    "id": "ubF8viwWKmDB"
   },
   "outputs": [],
   "source": [
    "import numpy as np\n",
    "from random import randint\n",
    "from sklearn.preprocessing import MinMaxScaler\n",
    "\n",
    "train_labels = []\n",
    "train_samples = []\n",
    "\n",
    "for i in range(1000):\n",
    "  random_younger = randint(13, 64)\n",
    "  train_samples.append(random_younger)\n",
    "  train_labels.append(0)\n",
    "\n",
    "  random_older = randint(65, 100)\n",
    "  train_samples.append(random_older)\n",
    "  train_labels.append(1)\n",
    "\n",
    "for i in range(50):\n",
    "  random_younger = randint(13, 64)\n",
    "  train_samples.append(random_younger)\n",
    "  train_labels.append(1)\n",
    "\n",
    "  random_older = randint(65, 100)\n",
    "  train_samples.append(random_older)\n",
    "  train_labels.append(0)\n",
    "\n",
    "\n",
    "train_labels = np.array(train_labels)\n",
    "train_samples = np.array(train_samples)\n",
    "\n",
    "\n",
    "scaler = MinMaxScaler(feature_range=(0,1))\n",
    "scaled_train_samples = scaler.fit_transform((train_samples).reshape(-1, 1))"
   ]
  },
  {
   "cell_type": "code",
   "execution_count": null,
   "metadata": {
    "id": "1zr3Ci4GKuyA"
   },
   "outputs": [],
   "source": []
  },
  {
   "cell_type": "markdown",
   "metadata": {
    "id": "akI4XC87Kzbq"
   },
   "source": [
    "# <b> Learning Rate </b>"
   ]
  },
  {
   "cell_type": "markdown",
   "metadata": {
    "id": "xkT53uGkK21g"
   },
   "source": [
    "Specifying Learning Rate is optional.\n",
    "If we don't specify explicitly then keras will specifies the default learning rate(0.001)"
   ]
  },
  {
   "cell_type": "code",
   "execution_count": 2,
   "metadata": {
    "id": "ePgPuyWvLB_A"
   },
   "outputs": [],
   "source": [
    "import keras\n",
    "from keras import backend as k\n",
    "from keras.models import Sequential\n",
    "from keras.layers import Activation\n",
    "from keras.layers.core import Dense\n",
    "from tensorflow.keras.optimizers import Adam\n",
    "from keras import regularizers"
   ]
  },
  {
   "cell_type": "code",
   "execution_count": 3,
   "metadata": {
    "id": "-yWWXmXGLB7m"
   },
   "outputs": [],
   "source": [
    "model = Sequential([\n",
    "                    Dense(16, input_shape=(1,), activation='relu'),  \n",
    "                    Dense(32, activation='relu', kernel_regularizer=regularizers.l2(0.01)),\n",
    "                    Dense(2, activation='sigmoid')\n",
    "])"
   ]
  },
  {
   "cell_type": "code",
   "execution_count": 4,
   "metadata": {
    "id": "IaQzXkVVKykN"
   },
   "outputs": [],
   "source": [
    "model.compile(Adam(learning_rate=0.0001), loss='sparse_categorical_crossentropy', metrics=['accuracy'])"
   ]
  },
  {
   "cell_type": "markdown",
   "metadata": {
    "id": "F50GFmuNLLyq"
   },
   "source": [
    "Another way of specifying Learning Rate"
   ]
  },
  {
   "cell_type": "code",
   "execution_count": 5,
   "metadata": {
    "id": "XSQV_T-uLLf4"
   },
   "outputs": [],
   "source": [
    "model.optimizer.lr = 0.01"
   ]
  },
  {
   "cell_type": "code",
   "execution_count": 6,
   "metadata": {
    "colab": {
     "base_uri": "https://localhost:8080/"
    },
    "id": "yH5CwPLAK5Fg",
    "outputId": "9c0630a2-63dd-4052-fd3b-9670f1b57ab2"
   },
   "outputs": [
    {
     "data": {
      "text/plain": [
       "<tf.Variable 'learning_rate:0' shape=() dtype=float32, numpy=0.01>"
      ]
     },
     "execution_count": 6,
     "metadata": {},
     "output_type": "execute_result"
    }
   ],
   "source": [
    "model.optimizer.learning_rate"
   ]
  },
  {
   "cell_type": "code",
   "execution_count": 7,
   "metadata": {
    "id": "ZHmWuYOxLRH_"
   },
   "outputs": [
    {
     "data": {
      "text/plain": [
       "<tf.Variable 'learning_rate:0' shape=() dtype=float32, numpy=0.01>"
      ]
     },
     "execution_count": 7,
     "metadata": {},
     "output_type": "execute_result"
    }
   ],
   "source": [
    "model.optimizer.lr"
   ]
  },
  {
   "cell_type": "code",
   "execution_count": null,
   "metadata": {},
   "outputs": [],
   "source": []
  },
  {
   "cell_type": "code",
   "execution_count": null,
   "metadata": {},
   "outputs": [],
   "source": []
  },
  {
   "cell_type": "markdown",
   "metadata": {},
   "source": [
    "# Batch Size"
   ]
  },
  {
   "cell_type": "code",
   "execution_count": 9,
   "metadata": {},
   "outputs": [
    {
     "name": "stdout",
     "output_type": "stream",
     "text": [
      "Epoch 1/20\n",
      "210/210 - 3s - loss: 0.3675 - accuracy: 0.8895 - 3s/epoch - 13ms/step\n",
      "Epoch 2/20\n",
      "210/210 - 1s - loss: 0.2901 - accuracy: 0.9171 - 786ms/epoch - 4ms/step\n",
      "Epoch 3/20\n",
      "210/210 - 1s - loss: 0.2814 - accuracy: 0.9233 - 1s/epoch - 6ms/step\n",
      "Epoch 4/20\n",
      "210/210 - 1s - loss: 0.2685 - accuracy: 0.9300 - 1s/epoch - 5ms/step\n",
      "Epoch 5/20\n",
      "210/210 - 1s - loss: 0.2624 - accuracy: 0.9367 - 996ms/epoch - 5ms/step\n",
      "Epoch 6/20\n",
      "210/210 - 1s - loss: 0.2639 - accuracy: 0.9290 - 1s/epoch - 5ms/step\n",
      "Epoch 7/20\n",
      "210/210 - 1s - loss: 0.2633 - accuracy: 0.9210 - 950ms/epoch - 5ms/step\n",
      "Epoch 8/20\n",
      "210/210 - 1s - loss: 0.2556 - accuracy: 0.9290 - 948ms/epoch - 5ms/step\n",
      "Epoch 9/20\n",
      "210/210 - 1s - loss: 0.2472 - accuracy: 0.9338 - 975ms/epoch - 5ms/step\n",
      "Epoch 10/20\n",
      "210/210 - 1s - loss: 0.2466 - accuracy: 0.9352 - 756ms/epoch - 4ms/step\n",
      "Epoch 11/20\n",
      "210/210 - 1s - loss: 0.2468 - accuracy: 0.9333 - 807ms/epoch - 4ms/step\n",
      "Epoch 12/20\n",
      "210/210 - 1s - loss: 0.2435 - accuracy: 0.9362 - 1s/epoch - 5ms/step\n",
      "Epoch 13/20\n",
      "210/210 - 1s - loss: 0.2473 - accuracy: 0.9305 - 925ms/epoch - 4ms/step\n",
      "Epoch 14/20\n",
      "210/210 - 1s - loss: 0.2495 - accuracy: 0.9262 - 940ms/epoch - 4ms/step\n",
      "Epoch 15/20\n",
      "210/210 - 1s - loss: 0.2405 - accuracy: 0.9352 - 1s/epoch - 5ms/step\n",
      "Epoch 16/20\n",
      "210/210 - 1s - loss: 0.2521 - accuracy: 0.9257 - 930ms/epoch - 4ms/step\n",
      "Epoch 17/20\n",
      "210/210 - 1s - loss: 0.2367 - accuracy: 0.9381 - 1s/epoch - 5ms/step\n",
      "Epoch 18/20\n",
      "210/210 - 1s - loss: 0.2402 - accuracy: 0.9348 - 962ms/epoch - 5ms/step\n",
      "Epoch 19/20\n",
      "210/210 - 1s - loss: 0.2327 - accuracy: 0.9405 - 988ms/epoch - 5ms/step\n",
      "Epoch 20/20\n",
      "210/210 - 1s - loss: 0.2367 - accuracy: 0.9371 - 930ms/epoch - 4ms/step\n"
     ]
    },
    {
     "data": {
      "text/plain": [
       "<keras.callbacks.History at 0x27788b13b20>"
      ]
     },
     "execution_count": 9,
     "metadata": {},
     "output_type": "execute_result"
    }
   ],
   "source": [
    "model.fit(scaled_train_samples, train_labels, batch_size = 10,\n",
    "          epochs = 20, shuffle = True, verbose = 2)"
   ]
  },
  {
   "cell_type": "code",
   "execution_count": null,
   "metadata": {},
   "outputs": [],
   "source": []
  }
 ],
 "metadata": {
  "colab": {
   "collapsed_sections": [
    "hyAIg7rCKrXB"
   ],
   "name": "8_Learning_Rate.ipynb",
   "provenance": []
  },
  "kernelspec": {
   "display_name": "Python 3 (ipykernel)",
   "language": "python",
   "name": "python3"
  },
  "language_info": {
   "codemirror_mode": {
    "name": "ipython",
    "version": 3
   },
   "file_extension": ".py",
   "mimetype": "text/x-python",
   "name": "python",
   "nbconvert_exporter": "python",
   "pygments_lexer": "ipython3",
   "version": "3.9.7"
  }
 },
 "nbformat": 4,
 "nbformat_minor": 1
}
