{
  "nbformat": 4,
  "nbformat_minor": 0,
  "metadata": {
    "colab": {
      "name": "Untitled4.ipynb",
      "provenance": []
    },
    "kernelspec": {
      "name": "python3",
      "display_name": "Python 3"
    },
    "language_info": {
      "name": "python"
    }
  },
  "cells": [
    {
      "cell_type": "markdown",
      "metadata": {
        "id": "TrOErFviCOvP"
      },
      "source": [
        "# Regularization"
      ]
    },
    {
      "cell_type": "code",
      "metadata": {
        "id": "p2N1IhAVB68H"
      },
      "source": [
        "import keras\n",
        "from keras import backend as k\n",
        "from keras.models import Sequential\n",
        "from keras.layers import Activation\n",
        "from keras.layers.core import Dense\n",
        "from tensorflow.keras.optimizers import Adam\n",
        "from keras.metrics import categorical_crossentropy"
      ],
      "execution_count": 1,
      "outputs": []
    },
    {
      "cell_type": "code",
      "metadata": {
        "id": "EcRaPTiGB_Kg"
      },
      "source": [
        "model = Sequential([\n",
        "                    Dense(16, input_shape=(1,), activation='relu'),  \n",
        "                    Dense(32, activation='relu'),\n",
        "                    Dense(2, activation='softmax')\n",
        "])"
      ],
      "execution_count": 2,
      "outputs": []
    },
    {
      "cell_type": "markdown",
      "metadata": {
        "id": "qRb24PKaCcvh"
      },
      "source": [
        "# Learning rate\n",
        "\n",
        "if we don't specify, then keras will include the default."
      ]
    },
    {
      "cell_type": "code",
      "metadata": {
        "id": "THoTwls2CNZ-"
      },
      "source": [
        "model.compile(Adam(learning_rate=0.0001), loss='sparse_categorical_crossentropy', metrics=['accuracy'])"
      ],
      "execution_count": 3,
      "outputs": []
    },
    {
      "cell_type": "markdown",
      "metadata": {
        "id": "Vtllfi4FC-oH"
      },
      "source": [
        "Another way of specifying Learning Rate"
      ]
    },
    {
      "cell_type": "code",
      "metadata": {
        "id": "oVEwWr89Cumd"
      },
      "source": [
        "model.optimizer.lr = 0.01"
      ],
      "execution_count": 4,
      "outputs": []
    },
    {
      "cell_type": "code",
      "metadata": {
        "colab": {
          "base_uri": "https://localhost:8080/"
        },
        "id": "aACzncnxDEUL",
        "outputId": "e0a9a355-c96b-47a2-e457-5b57ba54a5c0"
      },
      "source": [
        "model.optimizer.lr"
      ],
      "execution_count": 7,
      "outputs": [
        {
          "output_type": "execute_result",
          "data": {
            "text/plain": [
              "<tf.Variable 'learning_rate:0' shape=() dtype=float32, numpy=0.01>"
            ]
          },
          "metadata": {},
          "execution_count": 7
        }
      ]
    },
    {
      "cell_type": "code",
      "metadata": {
        "id": "mF7Y0abhDHU0"
      },
      "source": [
        ""
      ],
      "execution_count": null,
      "outputs": []
    }
  ]
}