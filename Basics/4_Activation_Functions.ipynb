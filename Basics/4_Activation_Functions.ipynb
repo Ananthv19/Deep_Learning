{
  "nbformat": 4,
  "nbformat_minor": 0,
  "metadata": {
    "colab": {
      "name": "4_Activation_Functions.ipynb",
      "provenance": [],
      "collapsed_sections": []
    },
    "kernelspec": {
      "name": "python3",
      "display_name": "Python 3"
    },
    "language_info": {
      "name": "python"
    }
  },
  "cells": [
    {
      "cell_type": "markdown",
      "metadata": {
        "id": "ZFgiQsStHE-r"
      },
      "source": [
        "# <b> Activation Functions</b>\n",
        "\n",
        "In an ANN, the activaton function of a neuron defines the output of that neuron given a set of inputs.\n",
        "\n",
        "<ul><li>Biologically inspired by activity in our brains, where different neurons fire, or are activated, by different stimuli.</li>\n",
        "</ul>"
      ]
    },
    {
      "cell_type": "code",
      "metadata": {
        "id": "U-njRzCMHCaL"
      },
      "source": [
        "from keras.models import Sequential\n",
        "from keras.layers import Dense, Activation"
      ],
      "execution_count": 1,
      "outputs": []
    },
    {
      "cell_type": "code",
      "metadata": {
        "id": "QVckw-3eHJPG"
      },
      "source": [
        "model = Sequential([\n",
        "                    Dense(5, input_shape=(3, ), activation='relu'),     # 5 hidden layers\n",
        "])"
      ],
      "execution_count": 2,
      "outputs": []
    },
    {
      "cell_type": "markdown",
      "metadata": {
        "id": "_wv7EAirHN0E"
      },
      "source": [
        "Another way of doing the above is..."
      ]
    },
    {
      "cell_type": "code",
      "metadata": {
        "id": "GMC1nXudHKoo"
      },
      "source": [
        "model = Sequential()\n",
        "model.add(Dense(5, input_shape=(3,)))\n",
        "model.add(Activation('relu'))"
      ],
      "execution_count": 3,
      "outputs": []
    },
    {
      "cell_type": "code",
      "metadata": {
        "id": "zyTENPS0HPpR"
      },
      "source": [
        ""
      ],
      "execution_count": null,
      "outputs": []
    }
  ]
}